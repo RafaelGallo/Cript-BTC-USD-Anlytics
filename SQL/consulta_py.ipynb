{
 "cells": [
  {
   "cell_type": "code",
   "execution_count": 1,
   "id": "64264e92-90fa-440e-8283-299ff98d066c",
   "metadata": {},
   "outputs": [],
   "source": [
    "import sqlite3\n",
    "import pandas as pd"
   ]
  },
  {
   "cell_type": "code",
   "execution_count": 2,
   "id": "eff823c8-99b1-4118-aca4-70937100e5da",
   "metadata": {},
   "outputs": [],
   "source": [
    "# Conecte ao arquivo do banco SQLite\n",
    "conn = sqlite3.connect(\"yahoo_data.db\")"
   ]
  },
  {
   "cell_type": "code",
   "execution_count": 3,
   "id": "3c1cbaa9-b561-4367-8a01-2b8c759d246e",
   "metadata": {},
   "outputs": [],
   "source": [
    "# Consulta para selecionar os registros entre 2024-01-01 e 2025-12-31\n",
    "\n",
    "query = \"\"\"\n",
    "    SELECT *\n",
    "    FROM stock_prices\n",
    "    WHERE date BETWEEN '2024-01-01' AND '2025-12-31'\n",
    "    ORDER BY date ASC;\n",
    "\"\"\"\n",
    "\n",
    "# Executa a consulta e carrega os dados em um DataFrame\n",
    "df = pd.read_sql_query(query, conn)"
   ]
  },
  {
   "cell_type": "code",
   "execution_count": 4,
   "id": "987d85ce-327d-4e7f-b648-caba3d59c349",
   "metadata": {},
   "outputs": [
    {
     "name": "stdout",
     "output_type": "stream",
     "text": [
      "    id   symbol                        date     open_price     high_price  \\\n",
      "0    1  BTC-USD  2024-12-14 00:00:00.000000  101451.437500  102618.882812   \n",
      "1   33  BTC-USD  2024-12-14 00:00:00.000000  101451.437500  102618.882812   \n",
      "2    2  BTC-USD  2024-12-15 00:00:00.000000  101373.531250  105047.539062   \n",
      "3   34  BTC-USD  2024-12-15 00:00:00.000000  101373.531250  105047.539062   \n",
      "4    3  BTC-USD  2024-12-16 00:00:00.000000  104293.578125  107780.578125   \n",
      "..  ..      ...                         ...            ...            ...   \n",
      "59  62  BTC-USD  2025-01-12 00:00:00.000000   94565.726562   95367.539062   \n",
      "60  31  BTC-USD  2025-01-13 00:00:00.000000   94488.890625   95837.000000   \n",
      "61  63  BTC-USD  2025-01-13 00:00:00.000000   94488.890625   95837.000000   \n",
      "62  32  BTC-USD  2025-01-14 00:00:00.000000   94510.078125   97246.203125   \n",
      "63  64  BTC-USD  2025-01-14 00:00:00.000000   94510.078125   97246.203125   \n",
      "\n",
      "        low_price    close_price        volume  \n",
      "0   100634.054688  101372.968750  4.042297e+10  \n",
      "1   100634.054688  101372.968750  4.042297e+10  \n",
      "2   101227.031250  104298.695312  5.114591e+10  \n",
      "3   101227.031250  104298.695312  5.114591e+10  \n",
      "4   103322.984375  106029.718750  9.102042e+10  \n",
      "..            ...            ...           ...  \n",
      "59   93712.507812   94488.437500  2.088513e+10  \n",
      "60   89260.101562   94516.523438  7.297900e+10  \n",
      "61   89260.101562   94516.523438  7.297900e+10  \n",
      "62   94330.820312   95621.375000  5.956641e+10  \n",
      "63   94330.820312   95884.453125  5.944225e+10  \n",
      "\n",
      "[64 rows x 8 columns]\n"
     ]
    }
   ],
   "source": [
    "# Exibindo os dados\n",
    "print(df)"
   ]
  },
  {
   "cell_type": "code",
   "execution_count": 5,
   "id": "58444658-bdcb-49d6-b7c8-d0ccc0345f87",
   "metadata": {},
   "outputs": [
    {
     "data": {
      "text/plain": [
       "'2024-12-14 00:00:00.000000'"
      ]
     },
     "execution_count": 5,
     "metadata": {},
     "output_type": "execute_result"
    }
   ],
   "source": [
    "df.date.min()"
   ]
  },
  {
   "cell_type": "code",
   "execution_count": 6,
   "id": "a3103091-2d26-4de6-84bd-6d0d0a0ce8a3",
   "metadata": {},
   "outputs": [
    {
     "data": {
      "text/plain": [
       "'2025-01-14 00:00:00.000000'"
      ]
     },
     "execution_count": 6,
     "metadata": {},
     "output_type": "execute_result"
    }
   ],
   "source": [
    "df.date.max()"
   ]
  },
  {
   "cell_type": "code",
   "execution_count": null,
   "id": "3a15a8de-22c8-4d32-88b6-f9c8ebb0ebc9",
   "metadata": {},
   "outputs": [],
   "source": [
    "df = pd.read_sql_query(\"SELECT * FROM stock_prices LIMIT 100;\", conn)\n",
    "print(df)"
   ]
  },
  {
   "cell_type": "code",
   "execution_count": null,
   "id": "3e971bb0-172c-4cf4-a0e5-b9798adbdc57",
   "metadata": {},
   "outputs": [],
   "source": [
    "df = pd.read_sql_query(\"SELECT * FROM stock_prices WHERE symbol = 'BTC-USD';\", conn)\n",
    "print(df)"
   ]
  },
  {
   "cell_type": "code",
   "execution_count": null,
   "id": "b91fb8bc-9830-4a2b-97dd-ca8a64985da7",
   "metadata": {},
   "outputs": [],
   "source": [
    "# Fecha a conexão com o banco\n",
    "conn.close()"
   ]
  },
  {
   "cell_type": "code",
   "execution_count": null,
   "id": "459bc0c8-555c-4422-954a-07643bbed4a5",
   "metadata": {},
   "outputs": [],
   "source": []
  },
  {
   "cell_type": "code",
   "execution_count": null,
   "id": "62387031-f551-4f5e-85ff-d6ce768684c7",
   "metadata": {},
   "outputs": [],
   "source": []
  },
  {
   "cell_type": "code",
   "execution_count": null,
   "id": "2860f2c5-537e-4861-a575-31beaa53d0d5",
   "metadata": {},
   "outputs": [],
   "source": []
  },
  {
   "cell_type": "code",
   "execution_count": null,
   "id": "25e9588c-2a6d-4616-beee-988b833a722f",
   "metadata": {},
   "outputs": [],
   "source": []
  },
  {
   "cell_type": "code",
   "execution_count": null,
   "id": "b9075f74-4c05-4562-9e32-168b1e483aa2",
   "metadata": {},
   "outputs": [],
   "source": [
    "# Fechar banco dados\n",
    "conn.close()"
   ]
  },
  {
   "cell_type": "code",
   "execution_count": null,
   "id": "741ada91-26e0-470c-9f49-e48366e925d1",
   "metadata": {},
   "outputs": [],
   "source": []
  }
 ],
 "metadata": {
  "kernelspec": {
   "display_name": "Python 3 (ipykernel)",
   "language": "python",
   "name": "python3"
  },
  "language_info": {
   "codemirror_mode": {
    "name": "ipython",
    "version": 3
   },
   "file_extension": ".py",
   "mimetype": "text/x-python",
   "name": "python",
   "nbconvert_exporter": "python",
   "pygments_lexer": "ipython3",
   "version": "3.12.4"
  }
 },
 "nbformat": 4,
 "nbformat_minor": 5
}
